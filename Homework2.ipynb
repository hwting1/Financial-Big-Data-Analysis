{
 "cells": [
  {
   "metadata": {},
   "cell_type": "code",
   "outputs": [],
   "execution_count": null,
   "source": "!pip install yfinance",
   "id": "8b1ce0c2bdec9104"
  },
  {
   "metadata": {
    "collapsed": true,
    "ExecuteTime": {
     "end_time": "2024-10-02T13:31:10.435273Z",
     "start_time": "2024-10-02T13:31:10.247351Z"
    }
   },
   "cell_type": "code",
   "source": [
    "import yfinance as yf\n",
    "import pandas as pd\n",
    "import datetime\n",
    "import matplotlib.pyplot as plt\n",
    "import mplfinance as mpf"
   ],
   "id": "initial_id",
   "outputs": [],
   "execution_count": 1
  },
  {
   "metadata": {
    "ExecuteTime": {
     "end_time": "2024-10-02T13:31:10.863833Z",
     "start_time": "2024-10-02T13:31:10.446066Z"
    }
   },
   "cell_type": "code",
   "source": [
    "stock_id = \"2330.tw\"\n",
    "end = datetime.date.today()\n",
    "start = end - datetime.timedelta(days=180)\n",
    "df = yf.download(stock_id, start=start, end=end).reset_index()"
   ],
   "id": "956a2d85754f99ea",
   "outputs": [
    {
     "name": "stderr",
     "output_type": "stream",
     "text": [
      "[*********************100%%**********************]  1 of 1 completed\n"
     ]
    }
   ],
   "execution_count": 2
  },
  {
   "metadata": {
    "ExecuteTime": {
     "end_time": "2024-10-02T13:31:11.087577Z",
     "start_time": "2024-10-02T13:31:11.084104Z"
    }
   },
   "cell_type": "code",
   "source": [
    "# SMA\n",
    "df['5_SMA'] = df['Close'].rolling(window=5).mean()\n",
    "df['15_SMA'] = df['Close'].rolling(window=15).mean()\n",
    "df['22_SMA'] = df['Close'].rolling(window=22).mean()"
   ],
   "id": "88170d919459263",
   "outputs": [],
   "execution_count": 3
  },
  {
   "metadata": {
    "ExecuteTime": {
     "end_time": "2024-10-02T13:31:11.136250Z",
     "start_time": "2024-10-02T13:31:11.129530Z"
    }
   },
   "cell_type": "code",
   "source": [
    "# RSI\n",
    "df['Change'] = df['Close'] - df['Close'].shift(1)\n",
    "df['Gain'] = df['Change'].apply(lambda x: x if x > 0 else 0)\n",
    "df['Loss'] = df['Change'].apply(lambda x: abs(x) if x < 0 else 0)\n",
    "df['Avg Gain'] = df['Gain'].rolling(window=14).mean()\n",
    "\n",
    "df['Avg Loss'] = df['Loss'].rolling(window=14).mean()\n",
    "df['RS'] = df['Avg Gain'] / df['Avg Loss']\n",
    "df['RSI'] = 100 - (100 / (1 + df['RS']))"
   ],
   "id": "25eaec62ae024964",
   "outputs": [],
   "execution_count": 4
  },
  {
   "metadata": {
    "ExecuteTime": {
     "end_time": "2024-10-02T13:31:11.185509Z",
     "start_time": "2024-10-02T13:31:11.180679Z"
    }
   },
   "cell_type": "code",
   "source": [
    "# MACD\n",
    "df['EMA_8'] = df['Close'].ewm(span=8, adjust=False).mean()\n",
    "df['EMA_13'] = df['Close'].ewm(span=13, adjust=False).mean()\n",
    "df['MACD'] = df['EMA_8'] - df['EMA_13']"
   ],
   "id": "d7d511b5a22849b2",
   "outputs": [],
   "execution_count": 5
  },
  {
   "metadata": {
    "ExecuteTime": {
     "end_time": "2024-10-02T13:31:11.327277Z",
     "start_time": "2024-10-02T13:31:11.312539Z"
    }
   },
   "cell_type": "code",
   "source": "df.tail()",
   "id": "74de1116a78b8afb",
   "outputs": [
    {
     "data": {
      "text/plain": [
       "          Date    Open    High     Low   Close  Adj Close    Volume  5_SMA  \\\n",
       "117 2024-09-25  1000.0  1005.0   998.0  1005.0     1005.0  39405222  980.4   \n",
       "118 2024-09-26  1010.0  1015.0  1005.0  1015.0     1015.0  38321585  991.4   \n",
       "119 2024-09-27  1020.0  1025.0  1000.0  1000.0     1000.0  35783779  996.8   \n",
       "120 2024-09-30   978.0   990.0   957.0   957.0      957.0  61603217  992.8   \n",
       "121 2024-10-01   967.0   977.0   967.0   972.0      972.0  26760355  989.8   \n",
       "\n",
       "         15_SMA      22_SMA  Change  Gain  Loss   Avg Gain  Avg Loss  \\\n",
       "117  939.333333  941.863636    18.0  18.0   0.0  10.285714  2.000000   \n",
       "118  947.733333  944.818182    10.0  10.0   0.0  10.071429  2.000000   \n",
       "119  954.266667  947.454545   -15.0   0.0  15.0   8.928571  3.071429   \n",
       "120  956.866667  947.136364   -43.0   0.0  43.0   8.928571  4.785714   \n",
       "121  961.733333  948.454545    15.0  15.0   0.0   9.642857  4.785714   \n",
       "\n",
       "           RS        RSI       EMA_8      EMA_13       MACD  \n",
       "117  5.142857  83.720930  970.432675  959.338470  11.094204  \n",
       "118  5.035714  83.431953  980.336525  967.290117  13.046407  \n",
       "119  2.906977  74.404762  984.706186  971.962958  12.743228  \n",
       "120  1.865672  65.104167  978.549256  969.825392   8.723863  \n",
       "121  2.014925  66.831683  977.093866  970.136051   6.957815  "
      ],
      "text/html": [
       "<div>\n",
       "<style scoped>\n",
       "    .dataframe tbody tr th:only-of-type {\n",
       "        vertical-align: middle;\n",
       "    }\n",
       "\n",
       "    .dataframe tbody tr th {\n",
       "        vertical-align: top;\n",
       "    }\n",
       "\n",
       "    .dataframe thead th {\n",
       "        text-align: right;\n",
       "    }\n",
       "</style>\n",
       "<table border=\"1\" class=\"dataframe\">\n",
       "  <thead>\n",
       "    <tr style=\"text-align: right;\">\n",
       "      <th></th>\n",
       "      <th>Date</th>\n",
       "      <th>Open</th>\n",
       "      <th>High</th>\n",
       "      <th>Low</th>\n",
       "      <th>Close</th>\n",
       "      <th>Adj Close</th>\n",
       "      <th>Volume</th>\n",
       "      <th>5_SMA</th>\n",
       "      <th>15_SMA</th>\n",
       "      <th>22_SMA</th>\n",
       "      <th>Change</th>\n",
       "      <th>Gain</th>\n",
       "      <th>Loss</th>\n",
       "      <th>Avg Gain</th>\n",
       "      <th>Avg Loss</th>\n",
       "      <th>RS</th>\n",
       "      <th>RSI</th>\n",
       "      <th>EMA_8</th>\n",
       "      <th>EMA_13</th>\n",
       "      <th>MACD</th>\n",
       "    </tr>\n",
       "  </thead>\n",
       "  <tbody>\n",
       "    <tr>\n",
       "      <th>117</th>\n",
       "      <td>2024-09-25</td>\n",
       "      <td>1000.0</td>\n",
       "      <td>1005.0</td>\n",
       "      <td>998.0</td>\n",
       "      <td>1005.0</td>\n",
       "      <td>1005.0</td>\n",
       "      <td>39405222</td>\n",
       "      <td>980.4</td>\n",
       "      <td>939.333333</td>\n",
       "      <td>941.863636</td>\n",
       "      <td>18.0</td>\n",
       "      <td>18.0</td>\n",
       "      <td>0.0</td>\n",
       "      <td>10.285714</td>\n",
       "      <td>2.000000</td>\n",
       "      <td>5.142857</td>\n",
       "      <td>83.720930</td>\n",
       "      <td>970.432675</td>\n",
       "      <td>959.338470</td>\n",
       "      <td>11.094204</td>\n",
       "    </tr>\n",
       "    <tr>\n",
       "      <th>118</th>\n",
       "      <td>2024-09-26</td>\n",
       "      <td>1010.0</td>\n",
       "      <td>1015.0</td>\n",
       "      <td>1005.0</td>\n",
       "      <td>1015.0</td>\n",
       "      <td>1015.0</td>\n",
       "      <td>38321585</td>\n",
       "      <td>991.4</td>\n",
       "      <td>947.733333</td>\n",
       "      <td>944.818182</td>\n",
       "      <td>10.0</td>\n",
       "      <td>10.0</td>\n",
       "      <td>0.0</td>\n",
       "      <td>10.071429</td>\n",
       "      <td>2.000000</td>\n",
       "      <td>5.035714</td>\n",
       "      <td>83.431953</td>\n",
       "      <td>980.336525</td>\n",
       "      <td>967.290117</td>\n",
       "      <td>13.046407</td>\n",
       "    </tr>\n",
       "    <tr>\n",
       "      <th>119</th>\n",
       "      <td>2024-09-27</td>\n",
       "      <td>1020.0</td>\n",
       "      <td>1025.0</td>\n",
       "      <td>1000.0</td>\n",
       "      <td>1000.0</td>\n",
       "      <td>1000.0</td>\n",
       "      <td>35783779</td>\n",
       "      <td>996.8</td>\n",
       "      <td>954.266667</td>\n",
       "      <td>947.454545</td>\n",
       "      <td>-15.0</td>\n",
       "      <td>0.0</td>\n",
       "      <td>15.0</td>\n",
       "      <td>8.928571</td>\n",
       "      <td>3.071429</td>\n",
       "      <td>2.906977</td>\n",
       "      <td>74.404762</td>\n",
       "      <td>984.706186</td>\n",
       "      <td>971.962958</td>\n",
       "      <td>12.743228</td>\n",
       "    </tr>\n",
       "    <tr>\n",
       "      <th>120</th>\n",
       "      <td>2024-09-30</td>\n",
       "      <td>978.0</td>\n",
       "      <td>990.0</td>\n",
       "      <td>957.0</td>\n",
       "      <td>957.0</td>\n",
       "      <td>957.0</td>\n",
       "      <td>61603217</td>\n",
       "      <td>992.8</td>\n",
       "      <td>956.866667</td>\n",
       "      <td>947.136364</td>\n",
       "      <td>-43.0</td>\n",
       "      <td>0.0</td>\n",
       "      <td>43.0</td>\n",
       "      <td>8.928571</td>\n",
       "      <td>4.785714</td>\n",
       "      <td>1.865672</td>\n",
       "      <td>65.104167</td>\n",
       "      <td>978.549256</td>\n",
       "      <td>969.825392</td>\n",
       "      <td>8.723863</td>\n",
       "    </tr>\n",
       "    <tr>\n",
       "      <th>121</th>\n",
       "      <td>2024-10-01</td>\n",
       "      <td>967.0</td>\n",
       "      <td>977.0</td>\n",
       "      <td>967.0</td>\n",
       "      <td>972.0</td>\n",
       "      <td>972.0</td>\n",
       "      <td>26760355</td>\n",
       "      <td>989.8</td>\n",
       "      <td>961.733333</td>\n",
       "      <td>948.454545</td>\n",
       "      <td>15.0</td>\n",
       "      <td>15.0</td>\n",
       "      <td>0.0</td>\n",
       "      <td>9.642857</td>\n",
       "      <td>4.785714</td>\n",
       "      <td>2.014925</td>\n",
       "      <td>66.831683</td>\n",
       "      <td>977.093866</td>\n",
       "      <td>970.136051</td>\n",
       "      <td>6.957815</td>\n",
       "    </tr>\n",
       "  </tbody>\n",
       "</table>\n",
       "</div>"
      ]
     },
     "execution_count": 6,
     "metadata": {},
     "output_type": "execute_result"
    }
   ],
   "execution_count": 6
  },
  {
   "metadata": {},
   "cell_type": "code",
   "outputs": [],
   "execution_count": null,
   "source": "",
   "id": "916182ea89850369"
  }
 ],
 "metadata": {
  "kernelspec": {
   "display_name": "Python 3",
   "language": "python",
   "name": "python3"
  },
  "language_info": {
   "codemirror_mode": {
    "name": "ipython",
    "version": 2
   },
   "file_extension": ".py",
   "mimetype": "text/x-python",
   "name": "python",
   "nbconvert_exporter": "python",
   "pygments_lexer": "ipython2",
   "version": "2.7.6"
  }
 },
 "nbformat": 4,
 "nbformat_minor": 5
}
