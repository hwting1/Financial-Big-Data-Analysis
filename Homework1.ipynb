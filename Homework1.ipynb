{
 "cells": [
  {
   "metadata": {},
   "cell_type": "code",
   "outputs": [],
   "execution_count": null,
   "source": "!pip install mplfinance",
   "id": "fc1e17d1e103b40"
  },
  {
   "metadata": {
    "collapsed": true,
    "id": "initial_id",
    "executionInfo": {
     "status": "ok",
     "timestamp": 1727270998637,
     "user_tz": -480,
     "elapsed": 3,
     "user": {
      "displayName": "Howard Ting",
      "userId": "11297780970646226888"
     }
    },
    "ExecuteTime": {
     "end_time": "2024-09-25T13:31:17.741191Z",
     "start_time": "2024-09-25T13:31:17.008602Z"
    }
   },
   "cell_type": "code",
   "outputs": [],
   "execution_count": 1,
   "source": [
    "import requests\n",
    "from bs4 import BeautifulSoup\n",
    "import pandas as pd\n",
    "from datetime import datetime\n",
    "import mplfinance as mpf"
   ],
   "id": "initial_id"
  },
  {
   "metadata": {
    "id": "b15c46d45b5abda5",
    "executionInfo": {
     "status": "ok",
     "timestamp": 1727270998637,
     "user_tz": -480,
     "elapsed": 3,
     "user": {
      "displayName": "Howard Ting",
      "userId": "11297780970646226888"
     }
    },
    "ExecuteTime": {
     "end_time": "2024-09-25T13:31:17.755410Z",
     "start_time": "2024-09-25T13:31:17.751994Z"
    }
   },
   "cell_type": "code",
   "source": [
    "def convert_roc_date(roc_date):\n",
    "    try:\n",
    "        year, month, day = map(int, roc_date.split('/'))\n",
    "        western_year = year + 1911\n",
    "        return f\"{western_year}-{month:02d}-{day:02d}\"\n",
    "    except ValueError:\n",
    "        return None\n",
    "\n",
    "stock_id = \"2330\"\n",
    "date = \"20240901\""
   ],
   "id": "b15c46d45b5abda5",
   "outputs": [],
   "execution_count": 2
  },
  {
   "metadata": {
    "id": "d3a3e9bcdc865809",
    "executionInfo": {
     "status": "ok",
     "timestamp": 1727270998637,
     "user_tz": -480,
     "elapsed": 3,
     "user": {
      "displayName": "Howard Ting",
      "userId": "11297780970646226888"
     }
    },
    "ExecuteTime": {
     "end_time": "2024-09-25T13:31:18.034625Z",
     "start_time": "2024-09-25T13:31:18.030694Z"
    }
   },
   "cell_type": "code",
   "source": [
    "def fetch_twse_stock_data(stock_id, date):\n",
    "    url = f\"https://www.twse.com.tw/exchangeReport/STOCK_DAY?response=json&date={date}&stockNo={stock_id}\"\n",
    "    response = requests.get(url)\n",
    "    data = response.json()\n",
    "    if data['stat'] == 'OK':\n",
    "        df = pd.DataFrame(data['data'], columns=data['fields'])\n",
    "        df['Date'] = df['日期'].apply(convert_roc_date)\n",
    "        df['Date'] = pd.to_datetime(df['Date'])\n",
    "        df['Close'] = pd.to_numeric(df['收盤價'].str.replace(',', ''), errors='coerce')\n",
    "        df['Open'] = pd.to_numeric(df['開盤價'].str.replace(',', ''), errors='coerce')\n",
    "        df['High'] = pd.to_numeric(df['最高價'].str.replace(',', ''), errors='coerce')\n",
    "        df['Low'] = pd.to_numeric(df['最低價'].str.replace(',', ''), errors='coerce')\n",
    "        df[\"Volume\"] = pd.to_numeric(df['成交股數'].str.replace(',', ''), errors='coerce')\n",
    "        df = df.drop(columns=['收盤價', '開盤價', '最高價', '最低價', '成交股數', '日期', '成交金額', '漲跌價差', '成交筆數'])\n",
    "        df = df.set_index(\"Date\")\n",
    "        return df\n",
    "    else:\n",
    "        print(\"Could not fetch data from twse!\")\n",
    "        return None"
   ],
   "id": "d3a3e9bcdc865809",
   "outputs": [],
   "execution_count": 3
  },
  {
   "metadata": {
    "colab": {
     "base_uri": "https://localhost:8080/",
     "height": 614
    },
    "id": "1e87988e8caa941d",
    "executionInfo": {
     "status": "ok",
     "timestamp": 1727271000295,
     "user_tz": -480,
     "elapsed": 1660,
     "user": {
      "displayName": "Howard Ting",
      "userId": "11297780970646226888"
     }
    },
    "outputId": "27f86c77-3cef-4948-b26f-6d8b5f1ccb51",
    "ExecuteTime": {
     "end_time": "2024-09-25T13:31:18.140004Z",
     "start_time": "2024-09-25T13:31:18.075435Z"
    }
   },
   "cell_type": "code",
   "source": [
    "df_twse = fetch_twse_stock_data(stock_id, date)\n",
    "df_twse"
   ],
   "id": "1e87988e8caa941d",
   "outputs": [
    {
     "data": {
      "text/plain": [
       "             Close    Open    High    Low    Volume\n",
       "Date                                               \n",
       "2024-09-02   948.0   950.0   955.0  943.0  19272593\n",
       "2024-09-03   940.0   948.0   952.0  939.0  23205623\n",
       "2024-09-04   889.0   894.0   905.0  888.0  93169835\n",
       "2024-09-05   902.0   907.0   915.0  900.0  34147890\n",
       "2024-09-06   918.0   909.0   918.0  903.0  28248063\n",
       "2024-09-09   899.0   892.0   900.0  891.0  38448946\n",
       "2024-09-10   904.0   907.0   911.0  901.0  34312646\n",
       "2024-09-11   901.0   906.0   906.0  900.0  19513256\n",
       "2024-09-12   940.0   936.0   944.0  928.0  43749260\n",
       "2024-09-13   947.0   955.0   955.0  939.0  28307441\n",
       "2024-09-16   947.0   952.0   952.0  943.0  14456888\n",
       "2024-09-18   941.0   945.0   948.0  933.0  30094662\n",
       "2024-09-19   960.0   940.0   960.0  936.0  35254383\n",
       "2024-09-20   973.0   981.0   982.0  971.0  66762167\n",
       "2024-09-23   977.0   971.0   977.0  971.0  15399658\n",
       "2024-09-24   987.0   976.0   987.0  971.0  29324170\n",
       "2024-09-25  1005.0  1000.0  1005.0  998.0  43039991"
      ],
      "text/html": [
       "<div>\n",
       "<style scoped>\n",
       "    .dataframe tbody tr th:only-of-type {\n",
       "        vertical-align: middle;\n",
       "    }\n",
       "\n",
       "    .dataframe tbody tr th {\n",
       "        vertical-align: top;\n",
       "    }\n",
       "\n",
       "    .dataframe thead th {\n",
       "        text-align: right;\n",
       "    }\n",
       "</style>\n",
       "<table border=\"1\" class=\"dataframe\">\n",
       "  <thead>\n",
       "    <tr style=\"text-align: right;\">\n",
       "      <th></th>\n",
       "      <th>Close</th>\n",
       "      <th>Open</th>\n",
       "      <th>High</th>\n",
       "      <th>Low</th>\n",
       "      <th>Volume</th>\n",
       "    </tr>\n",
       "    <tr>\n",
       "      <th>Date</th>\n",
       "      <th></th>\n",
       "      <th></th>\n",
       "      <th></th>\n",
       "      <th></th>\n",
       "      <th></th>\n",
       "    </tr>\n",
       "  </thead>\n",
       "  <tbody>\n",
       "    <tr>\n",
       "      <th>2024-09-02</th>\n",
       "      <td>948.0</td>\n",
       "      <td>950.0</td>\n",
       "      <td>955.0</td>\n",
       "      <td>943.0</td>\n",
       "      <td>19272593</td>\n",
       "    </tr>\n",
       "    <tr>\n",
       "      <th>2024-09-03</th>\n",
       "      <td>940.0</td>\n",
       "      <td>948.0</td>\n",
       "      <td>952.0</td>\n",
       "      <td>939.0</td>\n",
       "      <td>23205623</td>\n",
       "    </tr>\n",
       "    <tr>\n",
       "      <th>2024-09-04</th>\n",
       "      <td>889.0</td>\n",
       "      <td>894.0</td>\n",
       "      <td>905.0</td>\n",
       "      <td>888.0</td>\n",
       "      <td>93169835</td>\n",
       "    </tr>\n",
       "    <tr>\n",
       "      <th>2024-09-05</th>\n",
       "      <td>902.0</td>\n",
       "      <td>907.0</td>\n",
       "      <td>915.0</td>\n",
       "      <td>900.0</td>\n",
       "      <td>34147890</td>\n",
       "    </tr>\n",
       "    <tr>\n",
       "      <th>2024-09-06</th>\n",
       "      <td>918.0</td>\n",
       "      <td>909.0</td>\n",
       "      <td>918.0</td>\n",
       "      <td>903.0</td>\n",
       "      <td>28248063</td>\n",
       "    </tr>\n",
       "    <tr>\n",
       "      <th>2024-09-09</th>\n",
       "      <td>899.0</td>\n",
       "      <td>892.0</td>\n",
       "      <td>900.0</td>\n",
       "      <td>891.0</td>\n",
       "      <td>38448946</td>\n",
       "    </tr>\n",
       "    <tr>\n",
       "      <th>2024-09-10</th>\n",
       "      <td>904.0</td>\n",
       "      <td>907.0</td>\n",
       "      <td>911.0</td>\n",
       "      <td>901.0</td>\n",
       "      <td>34312646</td>\n",
       "    </tr>\n",
       "    <tr>\n",
       "      <th>2024-09-11</th>\n",
       "      <td>901.0</td>\n",
       "      <td>906.0</td>\n",
       "      <td>906.0</td>\n",
       "      <td>900.0</td>\n",
       "      <td>19513256</td>\n",
       "    </tr>\n",
       "    <tr>\n",
       "      <th>2024-09-12</th>\n",
       "      <td>940.0</td>\n",
       "      <td>936.0</td>\n",
       "      <td>944.0</td>\n",
       "      <td>928.0</td>\n",
       "      <td>43749260</td>\n",
       "    </tr>\n",
       "    <tr>\n",
       "      <th>2024-09-13</th>\n",
       "      <td>947.0</td>\n",
       "      <td>955.0</td>\n",
       "      <td>955.0</td>\n",
       "      <td>939.0</td>\n",
       "      <td>28307441</td>\n",
       "    </tr>\n",
       "    <tr>\n",
       "      <th>2024-09-16</th>\n",
       "      <td>947.0</td>\n",
       "      <td>952.0</td>\n",
       "      <td>952.0</td>\n",
       "      <td>943.0</td>\n",
       "      <td>14456888</td>\n",
       "    </tr>\n",
       "    <tr>\n",
       "      <th>2024-09-18</th>\n",
       "      <td>941.0</td>\n",
       "      <td>945.0</td>\n",
       "      <td>948.0</td>\n",
       "      <td>933.0</td>\n",
       "      <td>30094662</td>\n",
       "    </tr>\n",
       "    <tr>\n",
       "      <th>2024-09-19</th>\n",
       "      <td>960.0</td>\n",
       "      <td>940.0</td>\n",
       "      <td>960.0</td>\n",
       "      <td>936.0</td>\n",
       "      <td>35254383</td>\n",
       "    </tr>\n",
       "    <tr>\n",
       "      <th>2024-09-20</th>\n",
       "      <td>973.0</td>\n",
       "      <td>981.0</td>\n",
       "      <td>982.0</td>\n",
       "      <td>971.0</td>\n",
       "      <td>66762167</td>\n",
       "    </tr>\n",
       "    <tr>\n",
       "      <th>2024-09-23</th>\n",
       "      <td>977.0</td>\n",
       "      <td>971.0</td>\n",
       "      <td>977.0</td>\n",
       "      <td>971.0</td>\n",
       "      <td>15399658</td>\n",
       "    </tr>\n",
       "    <tr>\n",
       "      <th>2024-09-24</th>\n",
       "      <td>987.0</td>\n",
       "      <td>976.0</td>\n",
       "      <td>987.0</td>\n",
       "      <td>971.0</td>\n",
       "      <td>29324170</td>\n",
       "    </tr>\n",
       "    <tr>\n",
       "      <th>2024-09-25</th>\n",
       "      <td>1005.0</td>\n",
       "      <td>1000.0</td>\n",
       "      <td>1005.0</td>\n",
       "      <td>998.0</td>\n",
       "      <td>43039991</td>\n",
       "    </tr>\n",
       "  </tbody>\n",
       "</table>\n",
       "</div>"
      ]
     },
     "execution_count": 4,
     "metadata": {},
     "output_type": "execute_result"
    }
   ],
   "execution_count": 4
  },
  {
   "metadata": {
    "colab": {
     "base_uri": "https://localhost:8080/",
     "height": 492
    },
    "id": "c62a3ecd63706113",
    "executionInfo": {
     "status": "ok",
     "timestamp": 1727271001031,
     "user_tz": -480,
     "elapsed": 738,
     "user": {
      "displayName": "Howard Ting",
      "userId": "11297780970646226888"
     }
    },
    "outputId": "a1068749-651e-46fe-df52-7ae32caa45f5",
    "ExecuteTime": {
     "end_time": "2024-09-25T13:31:18.258899Z",
     "start_time": "2024-09-25T13:31:18.159438Z"
    }
   },
   "cell_type": "code",
   "source": [
    "mpf.plot(df_twse, type='candle')"
   ],
   "id": "c62a3ecd63706113",
   "outputs": [
    {
     "data": {
      "text/plain": [
       "<Figure size 800x575 with 2 Axes>"
      ],
      "image/png": "[encoded data removed]"
     },
     "metadata": {},
     "output_type": "display_data"
    }
   ],
   "execution_count": 5
  },
  {
   "metadata": {
    "colab": {
     "base_uri": "https://localhost:8080/",
     "height": 377
    },
    "id": "bbd87aed1e937d7d",
    "executionInfo": {
     "status": "ok",
     "timestamp": 1727271001915,
     "user_tz": -480,
     "elapsed": 886,
     "user": {
      "displayName": "Howard Ting",
      "userId": "11297780970646226888"
     }
    },
    "outputId": "d1651f9f-6a9d-4737-8d54-d89214719150",
    "ExecuteTime": {
     "end_time": "2024-09-25T13:31:19.643126Z",
     "start_time": "2024-09-25T13:31:18.406192Z"
    }
   },
   "cell_type": "code",
   "source": [
    "# 爬取 Yahoo 奇摩股價資料\n",
    "def fetch_yahoo_stock_data(stock_id):\n",
    "    url = f\"https://tw.stock.yahoo.com/quote/{stock_id}.TW\"\n",
    "\n",
    "    # 發送請求，獲取 HTML 內容\n",
    "    response = requests.get(url)\n",
    "\n",
    "    # 檢查請求是否成功\n",
    "    if response.status_code != 200:\n",
    "        print(f\"無法獲取 {stock_id} 的數據。\")\n",
    "        return pd.DataFrame()\n",
    "\n",
    "    # 使用 BeautifulSoup 解析 HTML\n",
    "    soup = BeautifulSoup(response.text, \"html.parser\")\n",
    "    # 查找當前股價的元素（需要根據實際的 Yahoo 股價頁面 HTML 結構調整）\n",
    "    price_tag = soup.find('span', {'class': 'Fz(32px)'})\n",
    "    titleNum_tag = soup.find('span', {'class': 'Fz(24px)'})\n",
    "    titleTxt_tag = soup.find('h1', {'class': 'Fz(24px)'})\n",
    "    if price_tag and titleNum_tag and titleTxt_tag:\n",
    "        # current_price = price_tag.text\n",
    "        # print(f\"個股: {titleTxt_tag.text}({titleNum_tag.text})\")\n",
    "        # print(f\"目前股價: {current_price}\")\n",
    "        pass\n",
    "    else:\n",
    "        print(f\"無法在頁面中找到 {stock_id} 的股價資料。\")\n",
    "        return pd.DataFrame()\n",
    "\n",
    "    # 查找表格中的數據\n",
    "    tables = soup.find_all('li', {'class': 'price-detail-item'})\n",
    "\n",
    "    # 檢查是否有找到表格\n",
    "    if not tables:\n",
    "        print(f\"無法在頁面中找到 {stock_id} 的股價資料。\")\n",
    "        return pd.DataFrame()\n",
    "\n",
    "    # 儲存數據的字典\n",
    "    stock_data = {}\n",
    "\n",
    "    # 遍歷每個表格來提取相關數據\n",
    "    for table in tables:\n",
    "        spans = table.find_all('span')\n",
    "        if len(spans) == 2:\n",
    "            key = spans[0].text.strip()  # 第一個 span 作為鍵\n",
    "            value = spans[1].text.strip()  # 第二個 span 作為值\n",
    "            stock_data[key] = value\n",
    "\n",
    "    # 打印提取出的數據\n",
    "    # for key, value in stock_data.items():\n",
    "    #     print(f\"{key}: {value}\")\n",
    "\n",
    "    # 將數據轉換為 DataFrame\n",
    "    df = pd.DataFrame(list(stock_data.items()), columns=[\"\", '數值'])\n",
    "    df = df.set_index(\"\")\n",
    "\n",
    "    return df\n",
    "\n",
    "yahoo_df = fetch_yahoo_stock_data(stock_id)\n",
    "yahoo_df"
   ],
   "id": "bbd87aed1e937d7d",
   "outputs": [
    {
     "data": {
      "text/plain": [
       "             數值\n",
       "               \n",
       "成交        1,005\n",
       "開盤        1,000\n",
       "最高        1,005\n",
       "最低          998\n",
       "均價        1,000\n",
       "成交金額(億)  392.28\n",
       "昨收          987\n",
       "總量       39,210\n",
       "昨量       26,678\n",
       "振幅        0.71%"
      ],
      "text/html": [
       "<div>\n",
       "<style scoped>\n",
       "    .dataframe tbody tr th:only-of-type {\n",
       "        vertical-align: middle;\n",
       "    }\n",
       "\n",
       "    .dataframe tbody tr th {\n",
       "        vertical-align: top;\n",
       "    }\n",
       "\n",
       "    .dataframe thead th {\n",
       "        text-align: right;\n",
       "    }\n",
       "</style>\n",
       "<table border=\"1\" class=\"dataframe\">\n",
       "  <thead>\n",
       "    <tr style=\"text-align: right;\">\n",
       "      <th></th>\n",
       "      <th>數值</th>\n",
       "    </tr>\n",
       "    <tr>\n",
       "      <th></th>\n",
       "      <th></th>\n",
       "    </tr>\n",
       "  </thead>\n",
       "  <tbody>\n",
       "    <tr>\n",
       "      <th>成交</th>\n",
       "      <td>1,005</td>\n",
       "    </tr>\n",
       "    <tr>\n",
       "      <th>開盤</th>\n",
       "      <td>1,000</td>\n",
       "    </tr>\n",
       "    <tr>\n",
       "      <th>最高</th>\n",
       "      <td>1,005</td>\n",
       "    </tr>\n",
       "    <tr>\n",
       "      <th>最低</th>\n",
       "      <td>998</td>\n",
       "    </tr>\n",
       "    <tr>\n",
       "      <th>均價</th>\n",
       "      <td>1,000</td>\n",
       "    </tr>\n",
       "    <tr>\n",
       "      <th>成交金額(億)</th>\n",
       "      <td>392.28</td>\n",
       "    </tr>\n",
       "    <tr>\n",
       "      <th>昨收</th>\n",
       "      <td>987</td>\n",
       "    </tr>\n",
       "    <tr>\n",
       "      <th>總量</th>\n",
       "      <td>39,210</td>\n",
       "    </tr>\n",
       "    <tr>\n",
       "      <th>昨量</th>\n",
       "      <td>26,678</td>\n",
       "    </tr>\n",
       "    <tr>\n",
       "      <th>振幅</th>\n",
       "      <td>0.71%</td>\n",
       "    </tr>\n",
       "  </tbody>\n",
       "</table>\n",
       "</div>"
      ]
     },
     "execution_count": 6,
     "metadata": {},
     "output_type": "execute_result"
    }
   ],
   "execution_count": 6
  }
 ],
 "metadata": {
  "kernelspec": {
   "display_name": "Python 3",
   "language": "python",
   "name": "python3"
  },
  "language_info": {
   "codemirror_mode": {
    "name": "ipython",
    "version": 2
   },
   "file_extension": ".py",
   "mimetype": "text/x-python",
   "name": "python",
   "nbconvert_exporter": "python",
   "pygments_lexer": "ipython2",
   "version": "2.7.6"
  },
  "colab": {
   "provenance": []
  }
 },
 "nbformat": 4,
 "nbformat_minor": 5
}
